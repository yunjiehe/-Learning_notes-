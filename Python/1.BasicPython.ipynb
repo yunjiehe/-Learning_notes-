{
 "cells": [
  {
   "cell_type": "markdown",
   "metadata": {},
   "source": [
    "# Day1"
   ]
  },
  {
   "cell_type": "markdown",
   "metadata": {},
   "source": [
    "## Python介绍"
   ]
  },
  {
   "cell_type": "markdown",
   "metadata": {},
   "source": [
    "## 编译型和解释型\n",
    "\n",
    "编译型\n",
    "\n",
    "---\n",
    "优点：编译器⼀一般会有预编译的过程对代码进⾏行行优化。因为编译只做一次，运行时不需要编译，所以编译型语言的程序执行效率⾼。可以脱离语⾔言环境独立运⾏行行。\n",
    "\n",
    "缺点：编译之后如果需要修改就需要整个模块重新编译。编译的时候根据对应的运⾏行行环境生成机器码，不同的操作系统之间移植就会有问题，需要根据运⾏行行的操作系统环境编译不同的可执⾏行行⽂文件。\n",
    "\n",
    "解释型\n",
    "\n",
    "---\n",
    "优点：有良好的平台兼容性，在任何环境中都可以运⾏行行，前提是安装了了解释器（虚拟机）。灵活，修改代码的时候直接修改就可以，可以快速部署，不⽤用停机维护。\n",
    "\n",
    "缺点：每次运⾏行行的时候都要解释⼀一遍，性能上不不如编译型语⾔言。"
   ]
  },
  {
   "cell_type": "markdown",
   "metadata": {},
   "source": [
    "## 变量\n",
    "驼峰命名或者下划线"
   ]
  },
  {
   "cell_type": "markdown",
   "metadata": {},
   "source": [
    "## 常量\n",
    "全部大写"
   ]
  },
  {
   "cell_type": "markdown",
   "metadata": {},
   "source": [
    "## 基本数据类型\n",
    "整数，字符串，bool"
   ]
  },
  {
   "cell_type": "markdown",
   "metadata": {},
   "source": [
    "## if语句"
   ]
  },
  {
   "cell_type": "markdown",
   "metadata": {},
   "source": [
    "## while语句"
   ]
  },
  {
   "cell_type": "markdown",
   "metadata": {},
   "source": [
    "# Day2"
   ]
  },
  {
   "cell_type": "markdown",
   "metadata": {},
   "source": [
    "## 格式化输出\n"
   ]
  }
 ],
 "metadata": {
  "kernelspec": {
   "display_name": "Python 3",
   "language": "python",
   "name": "python3"
  },
  "language_info": {
   "codemirror_mode": {
    "name": "ipython",
    "version": 3
   },
   "file_extension": ".py",
   "mimetype": "text/x-python",
   "name": "python",
   "nbconvert_exporter": "python",
   "pygments_lexer": "ipython3",
   "version": "3.7.0"
  },
  "toc": {
   "base_numbering": 1,
   "nav_menu": {},
   "number_sections": true,
   "sideBar": true,
   "skip_h1_title": false,
   "title_cell": "Table of Contents",
   "title_sidebar": "Contents",
   "toc_cell": false,
   "toc_position": {},
   "toc_section_display": true,
   "toc_window_display": true
  }
 },
 "nbformat": 4,
 "nbformat_minor": 2
}
